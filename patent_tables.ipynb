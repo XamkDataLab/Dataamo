{
    "metadata": {
        "kernelspec": {
            "name": "SQL",
            "display_name": "SQL",
            "language": "sql"
        },
        "language_info": {
            "name": "sql",
            "version": ""
        }
    },
    "nbformat_minor": 2,
    "nbformat": 4,
    "cells": [
        {
            "cell_type": "code",
            "source": [
                "CREATE TABLE patents (\r\n",
                "   lens_id nvarchar(255) PRIMARY KEY NOT NULL,\r\n",
                "   jurisdiction nvarchar(255) NULL,\r\n",
                "   date_published date NULL,\r\n",
                "   doc_key nvarchar(255) NULL,\r\n",
                "   publication_type nvarchar(255) NULL,\r\n",
                "   publication_reference_jurisdiction nvarchar(255) NULL,\r\n",
                "   publication_reference_doc_number nvarchar(255) NULL,\r\n",
                "   publication_reference_kind nvarchar(255) NULL,\r\n",
                "   publication_reference_date date NULL,\r\n",
                "   application_reference_jurisdiction nvarchar(255) NULL,\r\n",
                "   application_reference_doc_number nvarchar(255) NULL,\r\n",
                "   application_reference_kind nvarchar(255) NULL,\r\n",
                "   application_reference_date date NULL,\r\n",
                "   priority_claims_earliest_claim_date date NULL,\r\n",
                "   invention_title nvarchar(MAX) COLLATE Latin1_General_100_CI_AI_SC NULL,\r\n",
                "   --description_text nvarchar(MAX) COLLATE Latin1_General_100_CI_AI_SC NULL,\r\n",
                "   description_lang nvarchar(255) NULL,\r\n",
                "   numApplicants int NULL,\r\n",
                "   numInventors int NULL,\r\n",
                "   references_cited_patent_count int NULL,\r\n",
                "   references_cited_npl_count int NULL,\r\n",
                "   priority_claim_jurisdiction nvarchar(255) NULL,\r\n",
                ")\r\n",
                ""
            ],
            "metadata": {
                "azdata_cell_guid": "4c99d13a-1222-42c2-a59f-6423793039b9",
                "language": "sql"
            },
            "outputs": [],
            "execution_count": null
        },
        {
            "cell_type": "code",
            "source": [
                "CREATE TABLE inventors (\r\n",
                "    lens_id nvarchar(255) NULL,\r\n",
                "    doc_key nvarchar(255) NULL,\r\n",
                "    residence nvarchar(255) NULL,\r\n",
                "    inventor_sequence float NULL,\r\n",
                "    extracted_name nvarchar(max),\r\n",
                "    extracted_address nvarchar(max)\r\n",
                ");"
            ],
            "metadata": {
                "language": "sql",
                "azdata_cell_guid": "29f70b8d-fa27-4bfb-a64a-09d828ca127c"
            },
            "outputs": [],
            "execution_count": null
        },
        {
            "cell_type": "code",
            "source": [
                "CREATE TABLE applicants (\r\n",
                "    lens_id nvarchar(255),\r\n",
                "    doc_key nvarchar(255),\r\n",
                "    residence nvarchar(255),\r\n",
                "    extracted_name nvarchar(MAX),\r\n",
                "    extracted_address nvarchar(MAX),\r\n",
                "    nimi nvarchar(MAX)\r\n",
                ")"
            ],
            "metadata": {
                "language": "sql",
                "azdata_cell_guid": "310f5426-cdb2-45e3-9154-8eba1703dd4c"
            },
            "outputs": [],
            "execution_count": null
        }
    ]
}